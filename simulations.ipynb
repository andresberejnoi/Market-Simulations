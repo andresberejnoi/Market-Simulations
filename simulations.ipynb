{
 "cells": [
  {
   "cell_type": "code",
   "execution_count": null,
   "metadata": {},
   "outputs": [],
   "source": [
    "class Agent(object):\n",
    "    def __init__(self, cash):\n",
    "        self.cash = cash\n",
    "        self.items  = dict()\n",
    "\n",
    "    def get_wealth(self):\n",
    "\n",
    "        return self.cash + sum()\n",
    "\n",
    "\n",
    "class Market(object):\n",
    "\n",
    "\n",
    "    def get_quote(self, item_id):\n",
    "        pass\n",
    "\n",
    "    def get_order_book(self):\n",
    "        pass\n",
    "\n",
    "    def limit_sell(self, sell_item_id, sell_amount, ask_amount, ask_currency_id=1000,):\n",
    "        self.sell_orders[sell_item_id].append((sell_amount, ask_amount, ask_currency_id))\n",
    "        self.sell_orders[sell_item_id] = sorted(self.sell_orders[sell_item_id], key=lambda x: x[2])"
   ]
  }
 ],
 "metadata": {
  "kernelspec": {
   "display_name": "base",
   "language": "python",
   "name": "python3"
  },
  "language_info": {
   "name": "python",
   "version": "3.9.17"
  }
 },
 "nbformat": 4,
 "nbformat_minor": 2
}
